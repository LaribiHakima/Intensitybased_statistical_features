{
 "cells": [
  {
   "cell_type": "markdown",
   "metadata": {},
   "source": [
    "# Digital phantom"
   ]
  },
  {
   "cell_type": "code",
   "execution_count": 83,
   "metadata": {},
   "outputs": [],
   "source": [
    "import pydicom\n",
    "import numpy as np\n",
    "import csv\n",
    "import pandas as pd"
   ]
  },
  {
   "cell_type": "markdown",
   "metadata": {},
   "source": [
    "The dataset Digital phantom has the following caracteristics :\n",
    "- The phantom consists of 4×4x5 (x,y,z) voxels.\n",
    "- The voxels in the ROI (Region Of Interest) are defined in the segmentation mask (their values equals 1).\n",
    "- The intensities of each voxel of the ROI is defined in the image.  \n",
    "\n",
    "First, I have to read the dicom files of the segmentation mask and the image, then I'll get the set of intensities of voxels included in the ROI. Once this set ready, I can compute the intensity-based statistical features"
   ]
  },
  {
   "cell_type": "code",
   "execution_count": 90,
   "metadata": {},
   "outputs": [],
   "source": [
    "#Read the dicom file of the segmentation mask\n",
    "mask = pydicom.read_file(\"ibsi_1_digital_phantom/dicom/mask/mask.dcm\")\n",
    "#Get the voxels' matrix defined by the segmentation mask\n",
    "maskvox = np.zeros((4,4,5))\n",
    "maskvox = mask.pixel_array\n",
    "\n",
    "#Read the dicom file of the image\n",
    "image = pydicom.read_file(\"ibsi_1_digital_phantom/dicom/image/phantom.dcm\")\n",
    "#Get the set of intensities of the voxels\n",
    "imageintes = np.zeros((4,4,5))\n",
    "imageintens = image.pixel_array\n",
    "\n",
    "\n",
    "#Build the matrix of intensities considering only the voxels defined by the segmentation mask\n",
    "intensities = np.zeros((4,4,5))\n",
    "intensities = np.where(maskvox==1,imageintens,maskvox)\n",
    "\n",
    "#Get the number of voxels with intensity 1 in the mask segmentation\n",
    "count = (maskvox == 1).sum()\n"
   ]
  },
  {
   "cell_type": "markdown",
   "metadata": {},
   "source": [
    "Here, I will define the functions which compute the eighteen \"intensity-based statistical features\". Each function compute a single feature."
   ]
  },
  {
   "cell_type": "code",
   "execution_count": 91,
   "metadata": {},
   "outputs": [
    {
     "name": "stdout",
     "output_type": "stream",
     "text": [
      "-0.3546204806878337\n"
     ]
    }
   ],
   "source": [
    "def mean_intensity(intensities, count):\n",
    "    return (1/count)*np.sum(intensities)\n",
    "\n",
    "def intesity_variance(intensities,count):\n",
    "    #Build the centered data matrix of intensities\n",
    "    intensitiescent = np.where(intensities==0,intensities,intensities-mean_intensity(intensities, count))\n",
    "    return ((np.sum((intensitiescent)**2))*(1/count))\n",
    "\n",
    "def intensity_skewness(intensities,count):\n",
    "    #Build the centered data matrix of intensities\n",
    "    intensitiescent = np.where(intensities==0,intensities,intensities-mean_intensity(intensities, count))\n",
    "    return ((np.sum((intensitiescent)**3))*(1/count))/(intesity_variance(intensitiescent,count)**(3/2))\n",
    "\n",
    "def intensity_kurtosis(intensities,count):\n",
    "    #Build the centered data matrix of intensities\n",
    "    intensitiescent = np.where(intensities==0,intensities,intensities-mean_intensity(intensities, count))\n",
    "    return (((np.sum((intensitiescent)**4))*(1/count))/(intesity_variance(intensitiescent,count)**2))-3\n",
    "\n",
    "def median_intensity(intensities):\n",
    "    return np.median(intensities)\n",
    "\n",
    "def min_intensity(intensities):\n",
    "    #Get intensities values of vowels in the ROI\n",
    "    intensitiesvalue = np.delete(np.unique(intensities), np.where(np.unique(intensities) == 0))\n",
    "    return intensitiesvalue.min()\n",
    "\n",
    "def intensity_percentile_10(intensities):\n",
    "    return np.percentile(intensities, 10)\n",
    "\n",
    "def intensity_percentile_90(intensities):\n",
    "    return np.percentile(intensities, 90)\n",
    "\n",
    "def max_intensity(intensities):\n",
    "    #Get intensities values of vowels in the ROI\n",
    "    intensitiesvalue = np.delete(np.unique(intensities), np.where(np.unique(intensities) == 0))\n",
    "    return intensitiesvalue.max()\n",
    "\n",
    "def intensity_interquartile_range(intensities):\n",
    "    return (np.percentile(intensities, 75)-np.percentile(intensities, 25))\n",
    "\n",
    "def intensity_range(intensities):\n",
    "    return (max_intensity(intensities)-min_intensity(intensities))\n",
    "\n",
    "def intensitybased_mean_absolute_deviation(intensities,count):\n",
    "    #Build the centered data matrix of intensities\n",
    "    intensitiescent = np.where(intensities==0,intensities,intensities-mean_intensity(intensities, count))\n",
    "    return ((np.sum(abs(intensitiescent)))*(1/count))\n",
    "\n",
    "def intensitybased_robust_mean_absolute_deviation(intensities):\n",
    "    #Get the intensities in the interval [10th percentile, 90th percentile]\n",
    "    intensities10_90 = np.where(((intensities>=intensity_percentile_10(intensities))&(intensities<=intensity_percentile_90(intensities))),intensities,0)\n",
    "    #Get the number of intensities in the interval [10th percentile, 90th percentile]\n",
    "    count = (intensities10_90 != 0).sum()\n",
    "    #Get the mean of these intensities\n",
    "    mean = mean_intensity(intensities10_90, count)\n",
    "    #Build the centered data matrix of intensities in the interval [10th percentile, 90th percentile]\n",
    "    intensities10_90cent = np.where(intensities10_90==0,intensities10_90,intensities10_90-mean)\n",
    "    return ((np.sum(abs(intensities10_90cent)))*(1/count))\n",
    "\n",
    "def intensitybased_median_absolute_deviation(intensities,count):\n",
    "    #Build the matrix that measures dispersion from the median intensity \n",
    "    intensitiesmed = np.where(intensities==0,intensities,intensities-median_intensity(intensities))\n",
    "    return ((np.sum(abs(intensitiesmed)))*(1/count))\n",
    "\n",
    "def intensitybased_coefficient_variation(intensities,count):\n",
    "    return(np.sqrt(intesity_variance(intensities,count))/mean_intensity(intensities, count))\n",
    "\n",
    "def intensitybased_quartile_coefficient_dispersion(intensities):\n",
    "    return (np.percentile(intensities, 75)-np.percentile(intensities, 25))/(np.percentile(intensities, 75)+np.percentile(intensities, 25))\n",
    "\n",
    "def intensitybased_energy(intensities):\n",
    "    return np.sum(intensities**2)\n",
    "\n",
    "def root_mean_square_intensity(intensities,count):\n",
    "    return np.sqrt(intensitybased_energy(intensities)/count)\n",
    "\n",
    "print(intensity_kurtosis(intensities,count))"
   ]
  },
  {
   "cell_type": "markdown",
   "metadata": {},
   "source": [
    "Now, I will test the functions implemented above and export the results as a CSV file.\n",
    "\n",
    "### Note : \n",
    "The variables ***intensities*** and ***count*** have been defined in the first section. They represent respectively the set of intensities of voxels included in the ROI and the number of elements of this set."
   ]
  },
  {
   "cell_type": "code",
   "execution_count": 94,
   "metadata": {
    "scrolled": true
   },
   "outputs": [],
   "source": [
    "with open('results.csv','w',newline='') as csvfile:\n",
    "    writer=csv.writer(csvfile)\n",
    "    \n",
    "    writer.writerow(['Mean intensity', 'Intensity variance', 'Intensity skewness', 'Intensity kurtosis', 'Median intensity ','Minimum intensity','10th intensity percentile','90th intensity percentile','Maximum intensity','Intensity interquartile range','Intensity range','Intensity-based mean absolute deviation','Intensity-based robust mean absolute deviation','Intensity-based median absolute deviation','Intensity-based coefficient of variation','Intensity-based quartile coefficient of dispersion','Intensity-based energy','Root mean square intensity'])\n",
    "    writer.writerow([mean_intensity(intensities, count),intesity_variance(intensities,count), intensity_skewness(intensities,count), intensity_kurtosis(intensities,count) , median_intensity(intensities), min_intensity(intensities), intensity_percentile_10(intensities),intensity_percentile_90(intensities),max_intensity(intensities),intensity_interquartile_range(intensities),intensity_range(intensities),intensitybased_mean_absolute_deviation(intensities,count),intensitybased_robust_mean_absolute_deviation(intensities),intensitybased_median_absolute_deviation(intensities,count),intensitybased_coefficient_variation(intensities,count), intensitybased_quartile_coefficient_dispersion(intensities),intensitybased_energy(intensities),root_mean_square_intensity(intensities,count)])"
   ]
  },
  {
   "cell_type": "code",
   "execution_count": 95,
   "metadata": {},
   "outputs": [
    {
     "data": {
      "text/html": [
       "<div>\n",
       "<style scoped>\n",
       "    .dataframe tbody tr th:only-of-type {\n",
       "        vertical-align: middle;\n",
       "    }\n",
       "\n",
       "    .dataframe tbody tr th {\n",
       "        vertical-align: top;\n",
       "    }\n",
       "\n",
       "    .dataframe thead th {\n",
       "        text-align: right;\n",
       "    }\n",
       "</style>\n",
       "<table border=\"1\" class=\"dataframe\">\n",
       "  <thead>\n",
       "    <tr style=\"text-align: right;\">\n",
       "      <th></th>\n",
       "      <th>Mean intensity</th>\n",
       "      <th>Intensity variance</th>\n",
       "      <th>Intensity skewness</th>\n",
       "      <th>Intensity kurtosis</th>\n",
       "      <th>Median intensity</th>\n",
       "      <th>Minimum intensity</th>\n",
       "      <th>10th intensity percentile</th>\n",
       "      <th>90th intensity percentile</th>\n",
       "      <th>Maximum intensity</th>\n",
       "      <th>Intensity interquartile range</th>\n",
       "      <th>Intensity range</th>\n",
       "      <th>Intensity-based mean absolute deviation</th>\n",
       "      <th>Intensity-based robust mean absolute deviation</th>\n",
       "      <th>Intensity-based median absolute deviation</th>\n",
       "      <th>Intensity-based coefficient of variation</th>\n",
       "      <th>Intensity-based quartile coefficient of dispersion</th>\n",
       "      <th>Intensity-based energy</th>\n",
       "      <th>Root mean square intensity</th>\n",
       "    </tr>\n",
       "  </thead>\n",
       "  <tbody>\n",
       "    <tr>\n",
       "      <th>0</th>\n",
       "      <td>2.148649</td>\n",
       "      <td>3.045471</td>\n",
       "      <td>1.083821</td>\n",
       "      <td>-0.35462</td>\n",
       "      <td>1.0</td>\n",
       "      <td>1</td>\n",
       "      <td>1.0</td>\n",
       "      <td>4.0</td>\n",
       "      <td>6</td>\n",
       "      <td>3.0</td>\n",
       "      <td>5</td>\n",
       "      <td>1.552228</td>\n",
       "      <td>1.113834</td>\n",
       "      <td>1.148649</td>\n",
       "      <td>0.812198</td>\n",
       "      <td>0.6</td>\n",
       "      <td>567</td>\n",
       "      <td>2.768061</td>\n",
       "    </tr>\n",
       "  </tbody>\n",
       "</table>\n",
       "</div>"
      ],
      "text/plain": [
       "   Mean intensity  Intensity variance  Intensity skewness  Intensity kurtosis  \\\n",
       "0        2.148649            3.045471            1.083821            -0.35462   \n",
       "\n",
       "   Median intensity   Minimum intensity  10th intensity percentile  \\\n",
       "0                1.0                  1                        1.0   \n",
       "\n",
       "   90th intensity percentile  Maximum intensity  \\\n",
       "0                        4.0                  6   \n",
       "\n",
       "   Intensity interquartile range  Intensity range  \\\n",
       "0                            3.0                5   \n",
       "\n",
       "   Intensity-based mean absolute deviation  \\\n",
       "0                                 1.552228   \n",
       "\n",
       "   Intensity-based robust mean absolute deviation  \\\n",
       "0                                        1.113834   \n",
       "\n",
       "   Intensity-based median absolute deviation  \\\n",
       "0                                   1.148649   \n",
       "\n",
       "   Intensity-based coefficient of variation  \\\n",
       "0                                  0.812198   \n",
       "\n",
       "   Intensity-based quartile coefficient of dispersion  Intensity-based energy  \\\n",
       "0                                                0.6                      567   \n",
       "\n",
       "   Root mean square intensity  \n",
       "0                    2.768061  "
      ]
     },
     "execution_count": 95,
     "metadata": {},
     "output_type": "execute_result"
    }
   ],
   "source": [
    "#Print the CSV file \n",
    "r = pd.read_csv(\"results.csv\",encoding = \"ISO-8859-1\" )\n",
    "r.head()"
   ]
  }
 ],
 "metadata": {
  "kernelspec": {
   "display_name": "Python 3",
   "language": "python",
   "name": "python3"
  },
  "language_info": {
   "codemirror_mode": {
    "name": "ipython",
    "version": 3
   },
   "file_extension": ".py",
   "mimetype": "text/x-python",
   "name": "python",
   "nbconvert_exporter": "python",
   "pygments_lexer": "ipython3",
   "version": "3.8.5"
  }
 },
 "nbformat": 4,
 "nbformat_minor": 4
}
